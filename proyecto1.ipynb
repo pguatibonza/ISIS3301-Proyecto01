{
 "cells": [
  {
   "cell_type": "markdown",
   "metadata": {},
   "source": [
    "# Etapa 1\n",
    "\n",
    "## 1.1 Entendimiento del negocio y enfoque analítico\n",
    "\n",
    "### 1.1.1 Oportunidad/Problema negocio"
   ]
  },
  {
   "cell_type": "markdown",
   "metadata": {},
   "source": [
    "Categorizar los comentarios de las peliculas en positivos o negativos\n"
   ]
  },
  {
   "cell_type": "markdown",
   "metadata": {},
   "source": [
    "### 1.1.2 Enfoque analítico\n",
    "\n",
    "(Descripción del\n",
    "requerimiento desde el\n",
    "punto de vista de\n",
    "aprendizaje automático)"
   ]
  },
  {
   "cell_type": "markdown",
   "metadata": {},
   "source": [
    "Uso de tecnicas de aprendizaje automatico(machine learning) y procesamiento de lenguaje natural que tienen como objetivo principal procesar de manera automatica grandes cantidades de texto de los comentarios de las peliculas para poder clasificarlos en positivos o negativos\n"
   ]
  },
  {
   "cell_type": "markdown",
   "metadata": {},
   "source": [
    "### 1.1.3 Organización y rol dentro de ella que se beneficia con la oportunidad definida"
   ]
  },
  {
   "cell_type": "markdown",
   "metadata": {},
   "source": []
  },
  {
   "cell_type": "markdown",
   "metadata": {},
   "source": [
    "### 1.1.4 Técnicas y algoritmos a utilizar"
   ]
  },
  {
   "cell_type": "markdown",
   "metadata": {},
   "source": [
    "a.) Tipo de aprendizaje : supervisado\n",
    "\n",
    "b.) Tarea de aprendizaje : Clasificación \n",
    "\n",
    "c.) Tecnicas de aprendizaje : \n",
    "\n",
    "        1. SVM(Máquinas de vectores de soporte)\n",
    "        2. Regresión logística\n",
    "        3. Arboles de decisión\n"
   ]
  },
  {
   "cell_type": "markdown",
   "metadata": {},
   "source": [
    "## 1.2 Entendimiento y preparación de los datos"
   ]
  },
  {
   "cell_type": "markdown",
   "metadata": {},
   "source": [
    "### 1.2.1 Carga de los datos"
   ]
  },
  {
   "cell_type": "code",
   "execution_count": 89,
   "metadata": {},
   "outputs": [],
   "source": [
    "import os\n",
    "import pandas as pd\n",
    "import seaborn as sns\n",
    "from sklearn.model_selection import train_test_split\n",
    "from sklearn import svm\n",
    "from sklearn import metrics\n",
    "from sklearn.tree import DecisionTreeClassifier\n",
    "from sklearn.metrics import accuracy_score\n",
    "import nltk\n",
    "from nltk.corpus import stopwords\n",
    "# from nltk.tokenize import TweetTokenizer\n",
    "from nltk import word_tokenize\n",
    "from sklearn.feature_extraction.text import CountVectorizer, TfidfVectorizer\n",
    "from sklearn.model_selection import GridSearchCV, KFold\n",
    "import contractions\n",
    "import inflect\n",
    "import pandas_profiling\n",
    "import re\n",
    "from sklearn.metrics import f1_score, precision_score, recall_score\n",
    "from sklearn.linear_model import LogisticRegression\n",
    "from sklearn.pipeline import Pipeline\n",
    "import matplotlib as mplt\n",
    "import matplotlib.pyplot as plt\n",
    "from sklearn import tree\n",
    "import dill as pickle\n",
    "from sklearn.base import BaseEstimator, TransformerMixin\n",
    "from nltk.stem import SnowballStemmer\n",
    "from sklearn.pipeline import FunctionTransformer\n",
    "\n",
    "\n",
    "\n",
    "\n",
    "import warnings\n",
    "warnings.filterwarnings('ignore')\n",
    "\n",
    "\n",
    "nltk.data.path.append(os.path.abspath('./nltk_data'))\n",
    "nltk.download('punkt', quiet=True, raise_on_error=True, download_dir='./nltk_data')\n",
    "nltk.download('stopwords', quiet=True, raise_on_error=True, download_dir='./nltk_data')\n",
    "nltk.download('wordnet', quiet=True, raise_on_error=True, download_dir='./nltk_data')\n",
    "ROOT_DIR = os.path.abspath(os.curdir)\n",
    "NLTK_DATA_DIR = os.path.join(ROOT_DIR, 'nltk_data')\n",
    "nltk.data.path.append(NLTK_DATA_DIR)\n",
    "\n",
    "from nltk.corpus import stopwords\n",
    "from nltk.tokenize import word_tokenize\n",
    "from nltk.stem import WordNetLemmatizer\n",
    "\n",
    "stopwords_spanish = stopwords.words('spanish')\n",
    "lemmatizer = WordNetLemmatizer()\n",
    "\n",
    "df_movies = pd.read_csv('./data/MovieReviews.csv',\n",
    "                        sep=',',\n",
    "                        encoding='utf-8',\n",
    "                        index_col=0)\n",
    "\n",
    "# random_df = df_movies.sample(n=len(df_movies), replace=True)\n",
    "# random_df.to_csv(\"./data/randomMovieReviews.csv\", index=False)\n",
    "\n",
    "# df_movies = pd.read_csv('./data/randomMovieReviews.csv',\n",
    "#                         sep=',',\n",
    "#                         encoding='utf-8',\n",
    "#                         index_col=None)º"
   ]
  },
  {
   "cell_type": "markdown",
   "metadata": {},
   "source": [
    "### 1.2.2 Entendimiento de los datos"
   ]
  },
  {
   "cell_type": "code",
   "execution_count": 90,
   "metadata": {},
   "outputs": [
    {
     "data": {
      "text/plain": [
       "(5000, 2)"
      ]
     },
     "execution_count": 90,
     "metadata": {},
     "output_type": "execute_result"
    }
   ],
   "source": [
    "df_movies.shape"
   ]
  },
  {
   "cell_type": "code",
   "execution_count": 91,
   "metadata": {},
   "outputs": [
    {
     "data": {
      "text/html": [
       "<div>\n",
       "<style scoped>\n",
       "    .dataframe tbody tr th:only-of-type {\n",
       "        vertical-align: middle;\n",
       "    }\n",
       "\n",
       "    .dataframe tbody tr th {\n",
       "        vertical-align: top;\n",
       "    }\n",
       "\n",
       "    .dataframe thead th {\n",
       "        text-align: right;\n",
       "    }\n",
       "</style>\n",
       "<table border=\"1\" class=\"dataframe\">\n",
       "  <thead>\n",
       "    <tr style=\"text-align: right;\">\n",
       "      <th></th>\n",
       "      <th>review_es</th>\n",
       "      <th>sentimiento</th>\n",
       "    </tr>\n",
       "  </thead>\n",
       "  <tbody>\n",
       "    <tr>\n",
       "      <th>0</th>\n",
       "      <td>Si está buscando una película de guerra típica...</td>\n",
       "      <td>positivo</td>\n",
       "    </tr>\n",
       "    <tr>\n",
       "      <th>1</th>\n",
       "      <td>Supongo que algunos directores de películas de...</td>\n",
       "      <td>positivo</td>\n",
       "    </tr>\n",
       "    <tr>\n",
       "      <th>2</th>\n",
       "      <td>Es difícil contarle más sobre esta película si...</td>\n",
       "      <td>positivo</td>\n",
       "    </tr>\n",
       "    <tr>\n",
       "      <th>3</th>\n",
       "      <td>La película comienza muy lentamente, con el es...</td>\n",
       "      <td>positivo</td>\n",
       "    </tr>\n",
       "    <tr>\n",
       "      <th>4</th>\n",
       "      <td>Esta película es verdadera acción en su máxima...</td>\n",
       "      <td>positivo</td>\n",
       "    </tr>\n",
       "  </tbody>\n",
       "</table>\n",
       "</div>"
      ],
      "text/plain": [
       "                                           review_es sentimiento\n",
       "0  Si está buscando una película de guerra típica...    positivo\n",
       "1  Supongo que algunos directores de películas de...    positivo\n",
       "2  Es difícil contarle más sobre esta película si...    positivo\n",
       "3  La película comienza muy lentamente, con el es...    positivo\n",
       "4  Esta película es verdadera acción en su máxima...    positivo"
      ]
     },
     "execution_count": 91,
     "metadata": {},
     "output_type": "execute_result"
    }
   ],
   "source": [
    "df_movies.head()"
   ]
  },
  {
   "cell_type": "code",
   "execution_count": 92,
   "metadata": {},
   "outputs": [
    {
     "name": "stdout",
     "output_type": "stream",
     "text": [
      "<class 'pandas.core.frame.DataFrame'>\n",
      "Index: 5000 entries, 0 to 4999\n",
      "Data columns (total 2 columns):\n",
      " #   Column       Non-Null Count  Dtype \n",
      "---  ------       --------------  ----- \n",
      " 0   review_es    5000 non-null   object\n",
      " 1   sentimiento  5000 non-null   object\n",
      "dtypes: object(2)\n",
      "memory usage: 117.2+ KB\n"
     ]
    }
   ],
   "source": [
    "df_movies.info()"
   ]
  },
  {
   "cell_type": "code",
   "execution_count": 93,
   "metadata": {},
   "outputs": [
    {
     "name": "stdout",
     "output_type": "stream",
     "text": [
      "review_es      0.0\n",
      "sentimiento    0.0\n",
      "dtype: float64\n"
     ]
    }
   ],
   "source": [
    "# Se calcula el porcentaje de los valores nulos por columna\n",
    "print((df_movies.isnull().sum()*100 / df_movies.shape[0]).sort_values(ascending=False))"
   ]
  },
  {
   "cell_type": "code",
   "execution_count": 94,
   "metadata": {},
   "outputs": [
    {
     "data": {
      "text/plain": [
       "2"
      ]
     },
     "execution_count": 94,
     "metadata": {},
     "output_type": "execute_result"
    }
   ],
   "source": [
    "# Analizar la duplicidad de los datos\n",
    "df_movies.duplicated().sum()"
   ]
  },
  {
   "cell_type": "code",
   "execution_count": 95,
   "metadata": {},
   "outputs": [
    {
     "data": {
      "text/plain": [
       "<Axes: xlabel='sentimiento'>"
      ]
     },
     "execution_count": 95,
     "metadata": {},
     "output_type": "execute_result"
    },
    {
     "data": {
      "image/png": "[encoded data removed]",
      "text/plain": [
       "<Figure size 640x480 with 1 Axes>"
      ]
     },
     "metadata": {},
     "output_type": "display_data"
    }
   ],
   "source": [
    "# Analizar distribución de la variable categórica\n",
    "df_movies['sentimiento'].value_counts().plot(kind='bar')"
   ]
  },
  {
   "cell_type": "code",
   "execution_count": 96,
   "metadata": {},
   "outputs": [
    {
     "name": "stdout",
     "output_type": "stream",
     "text": [
      "Empty DataFrame\n",
      "Columns: [review_es, sentimiento]\n",
      "Index: []\n"
     ]
    }
   ],
   "source": [
    "# Para analizar la columna de review_es vamos a ver los reviews con menos de 30 caracteres\n",
    "short_reviews = df_movies[df_movies['review_es'].str.len() < 50]\n",
    "print(short_reviews)"
   ]
  },
  {
   "attachments": {},
   "cell_type": "markdown",
   "metadata": {},
   "source": [
    "Como puede evidenciarse, no hay filas con reviews cortos o vacíos que se podrían considerar como atípicos."
   ]
  },
  {
   "cell_type": "code",
   "execution_count": 97,
   "metadata": {},
   "outputs": [
    {
     "name": "stdout",
     "output_type": "stream",
     "text": [
      "                                              review_es sentimiento\n",
      "4421  Esta película es terrible pero tiene algunos b...    negativo\n",
      "4421    Esta película es terrible pero tiene algunos b...\n",
      "Name: review_es, dtype: object\n"
     ]
    }
   ],
   "source": [
    "short_reviews = df_movies[df_movies['review_es'].str.len() < 61]\n",
    "print(short_reviews)\n",
    "\n",
    "# El review más corto tiene 61 caracteres, lo cual es un número apropiado.\n",
    "print(short_reviews['review_es'])"
   ]
  },
  {
   "attachments": {},
   "cell_type": "markdown",
   "metadata": {},
   "source": [
    "### 1.2.3 Preparación de los datos"
   ]
  },
  {
   "cell_type": "code",
   "execution_count": 98,
   "metadata": {},
   "outputs": [],
   "source": [
    "# Se cambian los valores a numéricos\n",
    "df_movies['sentimiento'] = df_movies['sentimiento'].replace({'positivo': 1, 'negativo': 0})"
   ]
  },
  {
   "cell_type": "code",
   "execution_count": 99,
   "metadata": {},
   "outputs": [
    {
     "data": {
      "text/html": [
       "<div>\n",
       "<style scoped>\n",
       "    .dataframe tbody tr th:only-of-type {\n",
       "        vertical-align: middle;\n",
       "    }\n",
       "\n",
       "    .dataframe tbody tr th {\n",
       "        vertical-align: top;\n",
       "    }\n",
       "\n",
       "    .dataframe thead th {\n",
       "        text-align: right;\n",
       "    }\n",
       "</style>\n",
       "<table border=\"1\" class=\"dataframe\">\n",
       "  <thead>\n",
       "    <tr style=\"text-align: right;\">\n",
       "      <th></th>\n",
       "      <th>review_es</th>\n",
       "      <th>sentimiento</th>\n",
       "    </tr>\n",
       "  </thead>\n",
       "  <tbody>\n",
       "    <tr>\n",
       "      <th>0</th>\n",
       "      <td>Si está buscando una película de guerra típica...</td>\n",
       "      <td>1</td>\n",
       "    </tr>\n",
       "    <tr>\n",
       "      <th>1</th>\n",
       "      <td>Supongo que algunos directores de películas de...</td>\n",
       "      <td>1</td>\n",
       "    </tr>\n",
       "    <tr>\n",
       "      <th>2</th>\n",
       "      <td>Es difícil contarle más sobre esta película si...</td>\n",
       "      <td>1</td>\n",
       "    </tr>\n",
       "    <tr>\n",
       "      <th>3</th>\n",
       "      <td>La película comienza muy lentamente, con el es...</td>\n",
       "      <td>1</td>\n",
       "    </tr>\n",
       "    <tr>\n",
       "      <th>4</th>\n",
       "      <td>Esta película es verdadera acción en su máxima...</td>\n",
       "      <td>1</td>\n",
       "    </tr>\n",
       "  </tbody>\n",
       "</table>\n",
       "</div>"
      ],
      "text/plain": [
       "                                           review_es  sentimiento\n",
       "0  Si está buscando una película de guerra típica...            1\n",
       "1  Supongo que algunos directores de películas de...            1\n",
       "2  Es difícil contarle más sobre esta película si...            1\n",
       "3  La película comienza muy lentamente, con el es...            1\n",
       "4  Esta película es verdadera acción en su máxima...            1"
      ]
     },
     "execution_count": 99,
     "metadata": {},
     "output_type": "execute_result"
    }
   ],
   "source": [
    "df_movies.head()"
   ]
  },
  {
   "cell_type": "code",
   "execution_count": 100,
   "metadata": {},
   "outputs": [
    {
     "data": {
      "text/plain": [
       "review_es      object\n",
       "sentimiento     int64\n",
       "dtype: object"
      ]
     },
     "execution_count": 100,
     "metadata": {},
     "output_type": "execute_result"
    }
   ],
   "source": [
    "df_movies.dtypes"
   ]
  },
  {
   "cell_type": "code",
   "execution_count": 101,
   "metadata": {},
   "outputs": [
    {
     "name": "stdout",
     "output_type": "stream",
     "text": [
      "sentimiento\n",
      "1    2500\n",
      "0    2500\n",
      "Name: count, dtype: int64\n"
     ]
    },
    {
     "data": {
      "text/plain": [
       "<Axes: xlabel='sentimiento'>"
      ]
     },
     "execution_count": 101,
     "metadata": {},
     "output_type": "execute_result"
    },
    {
     "data": {
      "image/png": "[encoded data removed]",
      "text/plain": [
       "<Figure size 640x480 with 1 Axes>"
      ]
     },
     "metadata": {},
     "output_type": "display_data"
    }
   ],
   "source": [
    "# Analizar distribución de la variable categórica\n",
    "print(df_movies['sentimiento'].value_counts())\n",
    "df_movies['sentimiento'].value_counts().plot(kind='bar',)"
   ]
  },
  {
   "cell_type": "code",
   "execution_count": 102,
   "metadata": {},
   "outputs": [
    {
     "data": {
      "text/plain": [
       "<seaborn.axisgrid.PairGrid at 0x7efbf55c50a0>"
      ]
     },
     "execution_count": 102,
     "metadata": {},
     "output_type": "execute_result"
    },
    {
     "data": {
      "image/png": "[encoded data removed]",
      "text/plain": [
       "<Figure size 250x250 with 2 Axes>"
      ]
     },
     "metadata": {},
     "output_type": "display_data"
    }
   ],
   "source": [
    "sns.pairplot(df_movies)"
   ]
  },
  {
   "attachments": {},
   "cell_type": "markdown",
   "metadata": {},
   "source": [
    "Finalmente, se eliminan los valores duplicados, los cuales solo eran 2."
   ]
  },
  {
   "cell_type": "code",
   "execution_count": 103,
   "metadata": {},
   "outputs": [
    {
     "name": "stdout",
     "output_type": "stream",
     "text": [
      "Cantidad de datos duplicados:  2\n",
      "Cantidad de datos duplicados después:  0\n"
     ]
    },
    {
     "data": {
      "text/plain": [
       "(4998, 2)"
      ]
     },
     "execution_count": 103,
     "metadata": {},
     "output_type": "execute_result"
    }
   ],
   "source": [
    "print(\"Cantidad de datos duplicados: \",df_movies.duplicated().sum())\n",
    "df_movies.drop_duplicates(inplace=True)\n",
    "print(\"Cantidad de datos duplicados después: \",df_movies.duplicated().sum())\n",
    "\n",
    "df_movies.shape"
   ]
  },
  {
   "attachments": {},
   "cell_type": "markdown",
   "metadata": {},
   "source": [
    "En conclusión, se tienen 4998 filas para crear el modelo."
   ]
  },
  {
   "cell_type": "code",
   "execution_count": 104,
   "metadata": {},
   "outputs": [
    {
     "data": {
      "image/png": "[encoded data removed]",
      "text/plain": [
       "<Figure size 640x480 with 1 Axes>"
      ]
     },
     "metadata": {},
     "output_type": "display_data"
    }
   ],
   "source": [
    "ax = sns.countplot(x=\"sentimiento\", hue=\"sentimiento\", data=df_movies, dodge=False)"
   ]
  },
  {
   "cell_type": "code",
   "execution_count": 105,
   "metadata": {},
   "outputs": [
    {
     "data": {
      "text/html": [
       "<div>\n",
       "<style scoped>\n",
       "    .dataframe tbody tr th:only-of-type {\n",
       "        vertical-align: middle;\n",
       "    }\n",
       "\n",
       "    .dataframe tbody tr th {\n",
       "        vertical-align: top;\n",
       "    }\n",
       "\n",
       "    .dataframe thead th {\n",
       "        text-align: right;\n",
       "    }\n",
       "</style>\n",
       "<table border=\"1\" class=\"dataframe\">\n",
       "  <thead>\n",
       "    <tr style=\"text-align: right;\">\n",
       "      <th></th>\n",
       "      <th>review_es</th>\n",
       "      <th>sentimiento</th>\n",
       "    </tr>\n",
       "  </thead>\n",
       "  <tbody>\n",
       "    <tr>\n",
       "      <th>0</th>\n",
       "      <td>Si está buscando una película de guerra típica...</td>\n",
       "      <td>1</td>\n",
       "    </tr>\n",
       "    <tr>\n",
       "      <th>1</th>\n",
       "      <td>Supongo que algunos directores de películas de...</td>\n",
       "      <td>1</td>\n",
       "    </tr>\n",
       "    <tr>\n",
       "      <th>2</th>\n",
       "      <td>Es difícil contarle más sobre esta película si...</td>\n",
       "      <td>1</td>\n",
       "    </tr>\n",
       "    <tr>\n",
       "      <th>3</th>\n",
       "      <td>La película comienza muy lentamente, con el es...</td>\n",
       "      <td>1</td>\n",
       "    </tr>\n",
       "    <tr>\n",
       "      <th>4</th>\n",
       "      <td>Esta película es verdadera acción en su máxima...</td>\n",
       "      <td>1</td>\n",
       "    </tr>\n",
       "    <tr>\n",
       "      <th>5</th>\n",
       "      <td>Así como un fanático de la vida de las películ...</td>\n",
       "      <td>1</td>\n",
       "    </tr>\n",
       "    <tr>\n",
       "      <th>6</th>\n",
       "      <td>El polvo rojo está bien actuado y bien hecho, ...</td>\n",
       "      <td>1</td>\n",
       "    </tr>\n",
       "    <tr>\n",
       "      <th>7</th>\n",
       "      <td>Los talentos de Abbott y Costello brillan en l...</td>\n",
       "      <td>1</td>\n",
       "    </tr>\n",
       "    <tr>\n",
       "      <th>8</th>\n",
       "      <td>Asesina sexy Tiffany (Jennifer Tilly) todavía ...</td>\n",
       "      <td>1</td>\n",
       "    </tr>\n",
       "    <tr>\n",
       "      <th>9</th>\n",
       "      <td>Si mis expectativas no se superaron, ciertamen...</td>\n",
       "      <td>1</td>\n",
       "    </tr>\n",
       "    <tr>\n",
       "      <th>10</th>\n",
       "      <td>Vi el puerto oscuro en el Festival de Cine de ...</td>\n",
       "      <td>1</td>\n",
       "    </tr>\n",
       "    <tr>\n",
       "      <th>11</th>\n",
       "      <td>Cuando vi al dentista, pensé que era muy bueno...</td>\n",
       "      <td>1</td>\n",
       "    </tr>\n",
       "    <tr>\n",
       "      <th>12</th>\n",
       "      <td>Esta es una película de Hollywood. Las credenc...</td>\n",
       "      <td>1</td>\n",
       "    </tr>\n",
       "    <tr>\n",
       "      <th>13</th>\n",
       "      <td>Sugerencia número uno: lea el título como \"la ...</td>\n",
       "      <td>1</td>\n",
       "    </tr>\n",
       "    <tr>\n",
       "      <th>14</th>\n",
       "      <td>Esta entrega hace mucho que la CIA se vea como...</td>\n",
       "      <td>1</td>\n",
       "    </tr>\n",
       "    <tr>\n",
       "      <th>15</th>\n",
       "      <td>OK, por lo que esta película puede no haber ga...</td>\n",
       "      <td>1</td>\n",
       "    </tr>\n",
       "    <tr>\n",
       "      <th>16</th>\n",
       "      <td>... \"Inglorious\" como nuestro teatro local dec...</td>\n",
       "      <td>1</td>\n",
       "    </tr>\n",
       "    <tr>\n",
       "      <th>17</th>\n",
       "      <td>No se preocupe, los fanáticos de Disney: esta ...</td>\n",
       "      <td>1</td>\n",
       "    </tr>\n",
       "    <tr>\n",
       "      <th>18</th>\n",
       "      <td>Al igual que Tarzan, el hombre del APE (1932),...</td>\n",
       "      <td>1</td>\n",
       "    </tr>\n",
       "    <tr>\n",
       "      <th>19</th>\n",
       "      <td>Lou Gossett, Jr. es genial como 'Chappy Sincla...</td>\n",
       "      <td>1</td>\n",
       "    </tr>\n",
       "  </tbody>\n",
       "</table>\n",
       "</div>"
      ],
      "text/plain": [
       "                                            review_es  sentimiento\n",
       "0   Si está buscando una película de guerra típica...            1\n",
       "1   Supongo que algunos directores de películas de...            1\n",
       "2   Es difícil contarle más sobre esta película si...            1\n",
       "3   La película comienza muy lentamente, con el es...            1\n",
       "4   Esta película es verdadera acción en su máxima...            1\n",
       "5   Así como un fanático de la vida de las películ...            1\n",
       "6   El polvo rojo está bien actuado y bien hecho, ...            1\n",
       "7   Los talentos de Abbott y Costello brillan en l...            1\n",
       "8   Asesina sexy Tiffany (Jennifer Tilly) todavía ...            1\n",
       "9   Si mis expectativas no se superaron, ciertamen...            1\n",
       "10  Vi el puerto oscuro en el Festival de Cine de ...            1\n",
       "11  Cuando vi al dentista, pensé que era muy bueno...            1\n",
       "12  Esta es una película de Hollywood. Las credenc...            1\n",
       "13  Sugerencia número uno: lea el título como \"la ...            1\n",
       "14  Esta entrega hace mucho que la CIA se vea como...            1\n",
       "15  OK, por lo que esta película puede no haber ga...            1\n",
       "16  ... \"Inglorious\" como nuestro teatro local dec...            1\n",
       "17  No se preocupe, los fanáticos de Disney: esta ...            1\n",
       "18  Al igual que Tarzan, el hombre del APE (1932),...            1\n",
       "19  Lou Gossett, Jr. es genial como 'Chappy Sincla...            1"
      ]
     },
     "execution_count": 105,
     "metadata": {},
     "output_type": "execute_result"
    }
   ],
   "source": [
    "df_movies.head(20)"
   ]
  },
  {
   "cell_type": "markdown",
   "metadata": {},
   "source": [
    "### 1.2.4 Procesamiento de lenguaje natural"
   ]
  },
  {
   "cell_type": "code",
   "execution_count": 106,
   "metadata": {},
   "outputs": [],
   "source": [
    "\n",
    "def preprocessor(text):\n",
    "     text = re.sub('<[^>]*>', '', text)\n",
    "     emoticons = re.findall('(?::|;|=)(?:-)?(?:\\)|\\(|D|P)',\n",
    "                            text)\n",
    "     text = (re.sub('[\\W]+', ' ', text.lower()) +\n",
    "             ' '.join(emoticons).replace('-', ''))\n",
    "     return text"
   ]
  },
  {
   "cell_type": "code",
   "execution_count": 107,
   "metadata": {},
   "outputs": [],
   "source": [
    "df_movies['review_es'] = df_movies['review_es'].apply(preprocessor)"
   ]
  },
  {
   "cell_type": "code",
   "execution_count": 108,
   "metadata": {},
   "outputs": [
    {
     "data": {
      "text/html": [
       "<div>\n",
       "<style scoped>\n",
       "    .dataframe tbody tr th:only-of-type {\n",
       "        vertical-align: middle;\n",
       "    }\n",
       "\n",
       "    .dataframe tbody tr th {\n",
       "        vertical-align: top;\n",
       "    }\n",
       "\n",
       "    .dataframe thead th {\n",
       "        text-align: right;\n",
       "    }\n",
       "</style>\n",
       "<table border=\"1\" class=\"dataframe\">\n",
       "  <thead>\n",
       "    <tr style=\"text-align: right;\">\n",
       "      <th></th>\n",
       "      <th>review_es</th>\n",
       "      <th>sentimiento</th>\n",
       "    </tr>\n",
       "  </thead>\n",
       "  <tbody>\n",
       "    <tr>\n",
       "      <th>0</th>\n",
       "      <td>si está buscando una película de guerra típica...</td>\n",
       "      <td>1</td>\n",
       "    </tr>\n",
       "    <tr>\n",
       "      <th>1</th>\n",
       "      <td>supongo que algunos directores de películas de...</td>\n",
       "      <td>1</td>\n",
       "    </tr>\n",
       "    <tr>\n",
       "      <th>2</th>\n",
       "      <td>es difícil contarle más sobre esta película si...</td>\n",
       "      <td>1</td>\n",
       "    </tr>\n",
       "    <tr>\n",
       "      <th>3</th>\n",
       "      <td>la película comienza muy lentamente con el est...</td>\n",
       "      <td>1</td>\n",
       "    </tr>\n",
       "    <tr>\n",
       "      <th>4</th>\n",
       "      <td>esta película es verdadera acción en su máxima...</td>\n",
       "      <td>1</td>\n",
       "    </tr>\n",
       "    <tr>\n",
       "      <th>5</th>\n",
       "      <td>así como un fanático de la vida de las películ...</td>\n",
       "      <td>1</td>\n",
       "    </tr>\n",
       "    <tr>\n",
       "      <th>6</th>\n",
       "      <td>el polvo rojo está bien actuado y bien hecho p...</td>\n",
       "      <td>1</td>\n",
       "    </tr>\n",
       "    <tr>\n",
       "      <th>7</th>\n",
       "      <td>los talentos de abbott y costello brillan en l...</td>\n",
       "      <td>1</td>\n",
       "    </tr>\n",
       "    <tr>\n",
       "      <th>8</th>\n",
       "      <td>asesina sexy tiffany jennifer tilly todavía an...</td>\n",
       "      <td>1</td>\n",
       "    </tr>\n",
       "    <tr>\n",
       "      <th>9</th>\n",
       "      <td>si mis expectativas no se superaron ciertament...</td>\n",
       "      <td>1</td>\n",
       "    </tr>\n",
       "    <tr>\n",
       "      <th>10</th>\n",
       "      <td>vi el puerto oscuro en el festival de cine de ...</td>\n",
       "      <td>1</td>\n",
       "    </tr>\n",
       "    <tr>\n",
       "      <th>11</th>\n",
       "      <td>cuando vi al dentista pensé que era muy bueno ...</td>\n",
       "      <td>1</td>\n",
       "    </tr>\n",
       "    <tr>\n",
       "      <th>12</th>\n",
       "      <td>esta es una película de hollywood las credenci...</td>\n",
       "      <td>1</td>\n",
       "    </tr>\n",
       "    <tr>\n",
       "      <th>13</th>\n",
       "      <td>sugerencia número uno lea el título como la ho...</td>\n",
       "      <td>1</td>\n",
       "    </tr>\n",
       "    <tr>\n",
       "      <th>14</th>\n",
       "      <td>esta entrega hace mucho que la cia se vea como...</td>\n",
       "      <td>1</td>\n",
       "    </tr>\n",
       "    <tr>\n",
       "      <th>15</th>\n",
       "      <td>ok por lo que esta película puede no haber gan...</td>\n",
       "      <td>1</td>\n",
       "    </tr>\n",
       "    <tr>\n",
       "      <th>16</th>\n",
       "      <td>inglorious como nuestro teatro local decidió ...</td>\n",
       "      <td>1</td>\n",
       "    </tr>\n",
       "    <tr>\n",
       "      <th>17</th>\n",
       "      <td>no se preocupe los fanáticos de disney esta ed...</td>\n",
       "      <td>1</td>\n",
       "    </tr>\n",
       "    <tr>\n",
       "      <th>18</th>\n",
       "      <td>al igual que tarzan el hombre del ape 1932 sol...</td>\n",
       "      <td>1</td>\n",
       "    </tr>\n",
       "    <tr>\n",
       "      <th>19</th>\n",
       "      <td>lou gossett jr es genial como chappy sinclair ...</td>\n",
       "      <td>1</td>\n",
       "    </tr>\n",
       "  </tbody>\n",
       "</table>\n",
       "</div>"
      ],
      "text/plain": [
       "                                            review_es  sentimiento\n",
       "0   si está buscando una película de guerra típica...            1\n",
       "1   supongo que algunos directores de películas de...            1\n",
       "2   es difícil contarle más sobre esta película si...            1\n",
       "3   la película comienza muy lentamente con el est...            1\n",
       "4   esta película es verdadera acción en su máxima...            1\n",
       "5   así como un fanático de la vida de las películ...            1\n",
       "6   el polvo rojo está bien actuado y bien hecho p...            1\n",
       "7   los talentos de abbott y costello brillan en l...            1\n",
       "8   asesina sexy tiffany jennifer tilly todavía an...            1\n",
       "9   si mis expectativas no se superaron ciertament...            1\n",
       "10  vi el puerto oscuro en el festival de cine de ...            1\n",
       "11  cuando vi al dentista pensé que era muy bueno ...            1\n",
       "12  esta es una película de hollywood las credenci...            1\n",
       "13  sugerencia número uno lea el título como la ho...            1\n",
       "14  esta entrega hace mucho que la cia se vea como...            1\n",
       "15  ok por lo que esta película puede no haber gan...            1\n",
       "16   inglorious como nuestro teatro local decidió ...            1\n",
       "17  no se preocupe los fanáticos de disney esta ed...            1\n",
       "18  al igual que tarzan el hombre del ape 1932 sol...            1\n",
       "19  lou gossett jr es genial como chappy sinclair ...            1"
      ]
     },
     "execution_count": 108,
     "metadata": {},
     "output_type": "execute_result"
    }
   ],
   "source": [
    "df_movies.head(20)"
   ]
  },
  {
   "cell_type": "code",
   "execution_count": 109,
   "metadata": {},
   "outputs": [],
   "source": [
    "\n",
    "# nltk.download('stopwords')\n",
    "# stop_words= set(stopwords.words('spanish'))"
   ]
  },
  {
   "cell_type": "code",
   "execution_count": 110,
   "metadata": {},
   "outputs": [],
   "source": [
    "# # Función para tokenizar los tweets\n",
    "# def tokenizer(text):\n",
    "#     tt = TweetTokenizer()\n",
    "#     return tt.tokenize(text)"
   ]
  },
  {
   "cell_type": "code",
   "execution_count": 111,
   "metadata": {},
   "outputs": [],
   "source": [
    "# El parámetro 'stratify' es útil para asegurar que ambos conjuntos de datos queden aproximadamente balanceados\n",
    "# Cuando se cuenta con muy pocos datos etiquetados, por lo general se debe disponer de una menor cantidad de datos para evaluación\n",
    "X_train, X_test, Y_train, Y_test = train_test_split(df_movies['review_es'], df_movies['sentimiento'], test_size = 0.3, stratify = df_movies['sentimiento'], random_state = 1)"
   ]
  },
  {
   "cell_type": "code",
   "execution_count": 112,
   "metadata": {},
   "outputs": [
    {
     "data": {
      "text/plain": [
       "(3498,)"
      ]
     },
     "execution_count": 112,
     "metadata": {},
     "output_type": "execute_result"
    }
   ],
   "source": [
    "X_train.shape"
   ]
  },
  {
   "cell_type": "code",
   "execution_count": 113,
   "metadata": {},
   "outputs": [
    {
     "data": {
      "text/plain": [
       "sentimiento\n",
       "1    0.5\n",
       "0    0.5\n",
       "Name: proportion, dtype: float64"
      ]
     },
     "execution_count": 113,
     "metadata": {},
     "output_type": "execute_result"
    }
   ],
   "source": [
    "pd.Series(Y_train).value_counts(normalize = True)"
   ]
  },
  {
   "cell_type": "code",
   "execution_count": 114,
   "metadata": {},
   "outputs": [
    {
     "data": {
      "text/plain": [
       "(1500,)"
      ]
     },
     "execution_count": 114,
     "metadata": {},
     "output_type": "execute_result"
    }
   ],
   "source": [
    "X_test.shape"
   ]
  },
  {
   "cell_type": "code",
   "execution_count": 115,
   "metadata": {},
   "outputs": [
    {
     "data": {
      "text/plain": [
       "sentimiento\n",
       "1    0.5\n",
       "0    0.5\n",
       "Name: proportion, dtype: float64"
      ]
     },
     "execution_count": 115,
     "metadata": {},
     "output_type": "execute_result"
    }
   ],
   "source": [
    "pd.Series(Y_test).value_counts(normalize = True)"
   ]
  },
  {
   "cell_type": "markdown",
   "metadata": {},
   "source": [
    "## Vectorización"
   ]
  },
  {
   "cell_type": "code",
   "execution_count": 116,
   "metadata": {},
   "outputs": [],
   "source": [
    "bow = CountVectorizer(tokenizer = word_tokenize, stop_words = stopwords_spanish, lowercase = True)\n"
   ]
  },
  {
   "cell_type": "code",
   "execution_count": 117,
   "metadata": {},
   "outputs": [],
   "source": [
    "X_bow = bow.fit_transform(X_train)"
   ]
  },
  {
   "cell_type": "code",
   "execution_count": 118,
   "metadata": {},
   "outputs": [
    {
     "data": {
      "text/plain": [
       "47121"
      ]
     },
     "execution_count": 118,
     "metadata": {},
     "output_type": "execute_result"
    }
   ],
   "source": [
    "len(bow.vocabulary_)"
   ]
  },
  {
   "cell_type": "code",
   "execution_count": 119,
   "metadata": {},
   "outputs": [],
   "source": [
    "tfidf=TfidfVectorizer(tokenizer=word_tokenize, stop_words=stopwords_spanish, lowercase=True)"
   ]
  },
  {
   "cell_type": "code",
   "execution_count": 120,
   "metadata": {},
   "outputs": [],
   "source": [
    "X_tfidf = tfidf.fit_transform(X_train)"
   ]
  },
  {
   "cell_type": "code",
   "execution_count": 121,
   "metadata": {},
   "outputs": [
    {
     "data": {
      "text/plain": [
       "47121"
      ]
     },
     "execution_count": 121,
     "metadata": {},
     "output_type": "execute_result"
    }
   ],
   "source": [
    "len(tfidf.vocabulary_)"
   ]
  },
  {
   "attachments": {},
   "cell_type": "markdown",
   "metadata": {},
   "source": [
    "## 1.3 Modelo y evaluación\n",
    "Se requiere que llas variables de entrada estén separadas de la variable objetivo."
   ]
  },
  {
   "attachments": {},
   "cell_type": "markdown",
   "metadata": {},
   "source": [
    "### 1.3.1 Modelo con Support Vector Machines (SVMs)"
   ]
  },
  {
   "attachments": {},
   "cell_type": "markdown",
   "metadata": {},
   "source": [
    "#### 1.3.1.1 Construcción del modelo BOW"
   ]
  },
  {
   "cell_type": "code",
   "execution_count": 122,
   "metadata": {},
   "outputs": [],
   "source": [
    "# # Create a svm Classifier\n",
    "# bow_clf = svm.SVC(kernel='linear') # Linear Kernel\n",
    "\n",
    "# # Entrenar el modelo utilizando X_box y Y_train\n",
    "# bow_clf.fit(X_bow, Y_train)\n",
    "\n",
    "# y_train_bow_predict = bow_clf.predict(X_bow)\n",
    "# y_test_bow_predict = bow_clf.predict(bow.transform(X_test))"
   ]
  },
  {
   "cell_type": "code",
   "execution_count": 123,
   "metadata": {},
   "outputs": [],
   "source": [
    "# metrics.ConfusionMatrixDisplay.from_predictions(Y_train, y_train_bow_predict)"
   ]
  },
  {
   "cell_type": "code",
   "execution_count": 124,
   "metadata": {},
   "outputs": [],
   "source": [
    "# metrics.ConfusionMatrixDisplay.from_predictions(Y_test, y_test_bow_predict)"
   ]
  },
  {
   "cell_type": "code",
   "execution_count": 125,
   "metadata": {},
   "outputs": [],
   "source": [
    "# if len(bow_clf.classes_) == 2:\n",
    "#     print('Precision:', metrics.precision_score(Y_train, y_train_bow_predict, pos_label = 1))\n",
    "#     print('Recall:', metrics.recall_score(Y_train, y_train_bow_predict, pos_label = 1))\n",
    "#     print('F1:', metrics.f1_score(Y_train, y_train_bow_predict, pos_label = 1))\n",
    "# else:\n",
    "#     # Para casos no binarios, es común calcular las métricas para cada clase\n",
    "#     print('Precision:', metrics.precision_score(Y_train, y_train_bow_predict, average = None))\n",
    "#     print('Recall:', metrics.recall_score(Y_train, y_train_bow_predict, average = None))\n",
    "#     print('F1:', metrics.f1_score(Y_train, y_train_bow_predict, average = None))"
   ]
  },
  {
   "cell_type": "code",
   "execution_count": 126,
   "metadata": {},
   "outputs": [],
   "source": [
    "# if len(bow_clf.classes_) == 2:\n",
    "#     print('Precision:', metrics.precision_score(Y_test, y_test_bow_predict, pos_label = 1))\n",
    "#     print('Recall:', metrics.recall_score(Y_test, y_test_bow_predict, pos_label = 1))\n",
    "#     print('F1:', metrics.f1_score(Y_test, y_test_bow_predict, pos_label = 1))\n",
    "# else:\n",
    "#     # Para casos no binarios, es común calcular las métricas para cada clase\n",
    "#     print('Precision:', metrics.precision_score(Y_test, y_test_bow_predict, average = None))\n",
    "#     print('Recall:', metrics.recall_score(Y_test, y_test_bow_predict, average = None))\n",
    "#     print('F1:', metrics.f1_score(Y_test, y_test_bow_predict, average = None))"
   ]
  },
  {
   "attachments": {},
   "cell_type": "markdown",
   "metadata": {},
   "source": [
    "#### 1.3.1.2 Construcción del modelo con TD-IDF"
   ]
  },
  {
   "cell_type": "code",
   "execution_count": 127,
   "metadata": {},
   "outputs": [],
   "source": [
    "# tfidf_clf = svm.SVC(kernel='linear') # Linear Kernel\n",
    "\n",
    "# tfidf_clf.fit(X_tfidf, Y_train)"
   ]
  },
  {
   "cell_type": "code",
   "execution_count": 128,
   "metadata": {},
   "outputs": [],
   "source": [
    "# y_train_tfidf_predict = tfidf_clf.predict(X_tfidf)\n",
    "# y_test_tfidf_predict = tfidf_clf.predict(tfidf.transform(X_test))"
   ]
  },
  {
   "cell_type": "code",
   "execution_count": 129,
   "metadata": {},
   "outputs": [],
   "source": [
    "# metrics.ConfusionMatrixDisplay.from_predictions(Y_train, y_train_tfidf_predict)"
   ]
  },
  {
   "cell_type": "code",
   "execution_count": 130,
   "metadata": {},
   "outputs": [],
   "source": [
    "# metrics.ConfusionMatrixDisplay.from_predictions(Y_test, y_test_tfidf_predict)"
   ]
  },
  {
   "cell_type": "code",
   "execution_count": 131,
   "metadata": {},
   "outputs": [],
   "source": [
    "# if len(bow_clf.classes_) == 2:\n",
    "#     print('Precision:', metrics.precision_score(Y_train, y_train_tfidf_predict, pos_label = 1))\n",
    "#     print('Recall:', metrics.recall_score(Y_train, y_train_tfidf_predict, pos_label = 1))\n",
    "#     print('F1:', metrics.f1_score(Y_train, y_train_tfidf_predict, pos_label = 1))\n",
    "# else:\n",
    "#     # Para casos no binarios, es común calcular las métricas para cada clase\n",
    "#     print('Precision:', metrics.precision_score(Y_train, y_train_tfidf_predict, average = None))\n",
    "#     print('Recall:', metrics.recall_score(Y_train, y_train_tfidf_predict, average = None))\n",
    "#     print('F1:', metrics.f1_score(Y_train, y_train_tfidf_predict, average = None))"
   ]
  },
  {
   "cell_type": "code",
   "execution_count": 132,
   "metadata": {},
   "outputs": [],
   "source": [
    "# if len(tfidf_clf.classes_) == 2:\n",
    "#     print('Precision:', metrics.precision_score(Y_test, y_test_tfidf_predict, pos_label = 1))\n",
    "#     print('Recall:', metrics.recall_score(Y_test, y_test_tfidf_predict, pos_label = 1))\n",
    "#     print('F1:', metrics.f1_score(Y_test, y_test_tfidf_predict, pos_label = 1))\n",
    "# else:\n",
    "#     # Para casos no binarios, es común calcular las métricas para cada clase\n",
    "#     print('Precision:', metrics.precision_score(Y_test, y_test_tfidf_predict, average = None))\n",
    "#     print('Recall:', metrics.recall_score(Y_test, y_test_tfidf_predict, average = None))\n",
    "#     print('F1:', metrics.f1_score(Y_test, y_test_tfidf_predict, average = None))"
   ]
  },
  {
   "attachments": {},
   "cell_type": "markdown",
   "metadata": {},
   "source": [
    "#### 1.3.1.3 Análisis del error"
   ]
  },
  {
   "cell_type": "code",
   "execution_count": 133,
   "metadata": {},
   "outputs": [],
   "source": [
    "# error_df = pd.concat([\n",
    "#     pd.concat([X_test, Y_test], axis = 1).reset_index(),\n",
    "#     pd.Series(y_test_tfidf_predict)\n",
    "# ], axis = 1).rename(columns = { 'sentimiento': 'actual', 0: 'predicted' })\n",
    "\n",
    "# error_df.drop('index', inplace = True, axis = 1)"
   ]
  },
  {
   "cell_type": "code",
   "execution_count": 134,
   "metadata": {},
   "outputs": [],
   "source": [
    "# error_df.loc[error_df['actual'] != error_df['predicted']].shape"
   ]
  },
  {
   "cell_type": "code",
   "execution_count": 135,
   "metadata": {},
   "outputs": [],
   "source": [
    "# error_df.loc[error_df['actual'] != error_df['predicted']].sample(10)"
   ]
  },
  {
   "cell_type": "markdown",
   "metadata": {},
   "source": [
    "### 1.3.2 Modelo con Regresión logistica"
   ]
  },
  {
   "cell_type": "code",
   "execution_count": 136,
   "metadata": {},
   "outputs": [],
   "source": [
    "\n",
    "bow_model=LogisticRegression(random_state=2)"
   ]
  },
  {
   "cell_type": "code",
   "execution_count": 137,
   "metadata": {},
   "outputs": [
    {
     "data": {
      "text/html": [
       "<style>#sk-container-id-3 {color: black;background-color: white;}#sk-container-id-3 pre{padding: 0;}#sk-container-id-3 div.sk-toggleable {background-color: white;}#sk-container-id-3 label.sk-toggleable__label {cursor: pointer;display: block;width: 100%;margin-bottom: 0;padding: 0.3em;box-sizing: border-box;text-align: center;}#sk-container-id-3 label.sk-toggleable__label-arrow:before {content: \"▸\";float: left;margin-right: 0.25em;color: #696969;}#sk-container-id-3 label.sk-toggleable__label-arrow:hover:before {color: black;}#sk-container-id-3 div.sk-estimator:hover label.sk-toggleable__label-arrow:before {color: black;}#sk-container-id-3 div.sk-toggleable__content {max-height: 0;max-width: 0;overflow: hidden;text-align: left;background-color: #f0f8ff;}#sk-container-id-3 div.sk-toggleable__content pre {margin: 0.2em;color: black;border-radius: 0.25em;background-color: #f0f8ff;}#sk-container-id-3 input.sk-toggleable__control:checked~div.sk-toggleable__content {max-height: 200px;max-width: 100%;overflow: auto;}#sk-container-id-3 input.sk-toggleable__control:checked~label.sk-toggleable__label-arrow:before {content: \"▾\";}#sk-container-id-3 div.sk-estimator input.sk-toggleable__control:checked~label.sk-toggleable__label {background-color: #d4ebff;}#sk-container-id-3 div.sk-label input.sk-toggleable__control:checked~label.sk-toggleable__label {background-color: #d4ebff;}#sk-container-id-3 input.sk-hidden--visually {border: 0;clip: rect(1px 1px 1px 1px);clip: rect(1px, 1px, 1px, 1px);height: 1px;margin: -1px;overflow: hidden;padding: 0;position: absolute;width: 1px;}#sk-container-id-3 div.sk-estimator {font-family: monospace;background-color: #f0f8ff;border: 1px dotted black;border-radius: 0.25em;box-sizing: border-box;margin-bottom: 0.5em;}#sk-container-id-3 div.sk-estimator:hover {background-color: #d4ebff;}#sk-container-id-3 div.sk-parallel-item::after {content: \"\";width: 100%;border-bottom: 1px solid gray;flex-grow: 1;}#sk-container-id-3 div.sk-label:hover label.sk-toggleable__label {background-color: #d4ebff;}#sk-container-id-3 div.sk-serial::before {content: \"\";position: absolute;border-left: 1px solid gray;box-sizing: border-box;top: 0;bottom: 0;left: 50%;z-index: 0;}#sk-container-id-3 div.sk-serial {display: flex;flex-direction: column;align-items: center;background-color: white;padding-right: 0.2em;padding-left: 0.2em;position: relative;}#sk-container-id-3 div.sk-item {position: relative;z-index: 1;}#sk-container-id-3 div.sk-parallel {display: flex;align-items: stretch;justify-content: center;background-color: white;position: relative;}#sk-container-id-3 div.sk-item::before, #sk-container-id-3 div.sk-parallel-item::before {content: \"\";position: absolute;border-left: 1px solid gray;box-sizing: border-box;top: 0;bottom: 0;left: 50%;z-index: -1;}#sk-container-id-3 div.sk-parallel-item {display: flex;flex-direction: column;z-index: 1;position: relative;background-color: white;}#sk-container-id-3 div.sk-parallel-item:first-child::after {align-self: flex-end;width: 50%;}#sk-container-id-3 div.sk-parallel-item:last-child::after {align-self: flex-start;width: 50%;}#sk-container-id-3 div.sk-parallel-item:only-child::after {width: 0;}#sk-container-id-3 div.sk-dashed-wrapped {border: 1px dashed gray;margin: 0 0.4em 0.5em 0.4em;box-sizing: border-box;padding-bottom: 0.4em;background-color: white;}#sk-container-id-3 div.sk-label label {font-family: monospace;font-weight: bold;display: inline-block;line-height: 1.2em;}#sk-container-id-3 div.sk-label-container {text-align: center;}#sk-container-id-3 div.sk-container {/* jupyter's `normalize.less` sets `[hidden] { display: none; }` but bootstrap.min.css set `[hidden] { display: none !important; }` so we also need the `!important` here to be able to override the default hidden behavior on the sphinx rendered scikit-learn.org. See: https://github.com/scikit-learn/scikit-learn/issues/21755 */display: inline-block !important;position: relative;}#sk-container-id-3 div.sk-text-repr-fallback {display: none;}</style><div id=\"sk-container-id-3\" class=\"sk-top-container\"><div class=\"sk-text-repr-fallback\"><pre>LogisticRegression(random_state=2)</pre><b>In a Jupyter environment, please rerun this cell to show the HTML representation or trust the notebook. <br />On GitHub, the HTML representation is unable to render, please try loading this page with nbviewer.org.</b></div><div class=\"sk-container\" hidden><div class=\"sk-item\"><div class=\"sk-estimator sk-toggleable\"><input class=\"sk-toggleable__control sk-hidden--visually\" id=\"sk-estimator-id-3\" type=\"checkbox\" checked><label for=\"sk-estimator-id-3\" class=\"sk-toggleable__label sk-toggleable__label-arrow\">LogisticRegression</label><div class=\"sk-toggleable__content\"><pre>LogisticRegression(random_state=2)</pre></div></div></div></div></div>"
      ],
      "text/plain": [
       "LogisticRegression(random_state=2)"
      ]
     },
     "execution_count": 137,
     "metadata": {},
     "output_type": "execute_result"
    }
   ],
   "source": [
    "bow_model.fit(X_bow, Y_train)"
   ]
  },
  {
   "cell_type": "code",
   "execution_count": 138,
   "metadata": {},
   "outputs": [],
   "source": [
    "y_train_bow_predict = bow_model.predict(X_bow)\n",
    "y_test_bow_predict = bow_model.predict(bow.transform(X_test))"
   ]
  },
  {
   "cell_type": "code",
   "execution_count": 139,
   "metadata": {},
   "outputs": [
    {
     "data": {
      "text/plain": [
       "<sklearn.metrics._plot.confusion_matrix.ConfusionMatrixDisplay at 0x7efbf47cec10>"
      ]
     },
     "execution_count": 139,
     "metadata": {},
     "output_type": "execute_result"
    },
    {
     "data": {
      "image/png": "[encoded data removed]",
      "text/plain": [
       "<Figure size 640x480 with 2 Axes>"
      ]
     },
     "metadata": {},
     "output_type": "display_data"
    }
   ],
   "source": [
    "metrics.ConfusionMatrixDisplay.from_predictions(Y_train, y_train_bow_predict)"
   ]
  },
  {
   "cell_type": "code",
   "execution_count": 140,
   "metadata": {},
   "outputs": [
    {
     "data": {
      "text/plain": [
       "<sklearn.metrics._plot.confusion_matrix.ConfusionMatrixDisplay at 0x7efbfe0445b0>"
      ]
     },
     "execution_count": 140,
     "metadata": {},
     "output_type": "execute_result"
    },
    {
     "data": {
      "image/png": "[encoded data removed]",
      "text/plain": [
       "<Figure size 640x480 with 2 Axes>"
      ]
     },
     "metadata": {},
     "output_type": "display_data"
    }
   ],
   "source": [
    "metrics.ConfusionMatrixDisplay.from_predictions( Y_test,y_test_bow_predict)"
   ]
  },
  {
   "cell_type": "code",
   "execution_count": 141,
   "metadata": {},
   "outputs": [
    {
     "name": "stdout",
     "output_type": "stream",
     "text": [
      "Precision: 1.0\n",
      "Recall: 1.0\n",
      "F1: 1.0\n"
     ]
    }
   ],
   "source": [
    "if len(bow_model.classes_) == 2:\n",
    "    print('Precision:', precision_score(Y_train, y_train_bow_predict, pos_label = 1))\n",
    "    print('Recall:', recall_score(Y_train, y_train_bow_predict, pos_label = 1))\n",
    "    print('F1:', f1_score(Y_train, y_train_bow_predict, pos_label = 1))\n",
    "else:\n",
    "    # Para casos no binarios, es común calcular las métricas para cada clase\n",
    "    print('Precision:', precision_score(Y_train, y_train_bow_predict, average = None))\n",
    "    print('Recall:', recall_score(Y_train, y_train_bow_predict, average = None))\n",
    "    print('F1:', f1_score(Y_train, y_train_bow_predict, average = None))"
   ]
  },
  {
   "cell_type": "code",
   "execution_count": 142,
   "metadata": {},
   "outputs": [
    {
     "name": "stdout",
     "output_type": "stream",
     "text": [
      "Precision: 0.8283870967741935\n",
      "Recall: 0.856\n",
      "F1: 0.8419672131147541\n"
     ]
    }
   ],
   "source": [
    "if len(bow_model.classes_) == 2:\n",
    "    print('Precision:', precision_score(Y_test, y_test_bow_predict, pos_label = 1))\n",
    "    print('Recall:', recall_score(Y_test, y_test_bow_predict, pos_label = 1))\n",
    "    print('F1:', f1_score(Y_test, y_test_bow_predict, pos_label = 1))\n",
    "else:\n",
    "    # Para casos no binarios, es común calcular las métricas para cada clase\n",
    "    print('Precision:', precision_score(Y_test, y_test_bow_predict, average = None))\n",
    "    print('Recall:', recall_score(Y_test, y_test_bow_predict, average = None))\n",
    "    print('F1:', f1_score(Y_test, y_test_bow_predict, average = None))"
   ]
  },
  {
   "attachments": {},
   "cell_type": "markdown",
   "metadata": {},
   "source": [
    "#### 1.3.2.2 Modelo usando TF-IDF"
   ]
  },
  {
   "cell_type": "code",
   "execution_count": 143,
   "metadata": {},
   "outputs": [],
   "source": [
    "tfidf_model = LogisticRegression(random_state = 3)"
   ]
  },
  {
   "cell_type": "code",
   "execution_count": 144,
   "metadata": {},
   "outputs": [
    {
     "data": {
      "text/html": [
       "<style>#sk-container-id-4 {color: black;background-color: white;}#sk-container-id-4 pre{padding: 0;}#sk-container-id-4 div.sk-toggleable {background-color: white;}#sk-container-id-4 label.sk-toggleable__label {cursor: pointer;display: block;width: 100%;margin-bottom: 0;padding: 0.3em;box-sizing: border-box;text-align: center;}#sk-container-id-4 label.sk-toggleable__label-arrow:before {content: \"▸\";float: left;margin-right: 0.25em;color: #696969;}#sk-container-id-4 label.sk-toggleable__label-arrow:hover:before {color: black;}#sk-container-id-4 div.sk-estimator:hover label.sk-toggleable__label-arrow:before {color: black;}#sk-container-id-4 div.sk-toggleable__content {max-height: 0;max-width: 0;overflow: hidden;text-align: left;background-color: #f0f8ff;}#sk-container-id-4 div.sk-toggleable__content pre {margin: 0.2em;color: black;border-radius: 0.25em;background-color: #f0f8ff;}#sk-container-id-4 input.sk-toggleable__control:checked~div.sk-toggleable__content {max-height: 200px;max-width: 100%;overflow: auto;}#sk-container-id-4 input.sk-toggleable__control:checked~label.sk-toggleable__label-arrow:before {content: \"▾\";}#sk-container-id-4 div.sk-estimator input.sk-toggleable__control:checked~label.sk-toggleable__label {background-color: #d4ebff;}#sk-container-id-4 div.sk-label input.sk-toggleable__control:checked~label.sk-toggleable__label {background-color: #d4ebff;}#sk-container-id-4 input.sk-hidden--visually {border: 0;clip: rect(1px 1px 1px 1px);clip: rect(1px, 1px, 1px, 1px);height: 1px;margin: -1px;overflow: hidden;padding: 0;position: absolute;width: 1px;}#sk-container-id-4 div.sk-estimator {font-family: monospace;background-color: #f0f8ff;border: 1px dotted black;border-radius: 0.25em;box-sizing: border-box;margin-bottom: 0.5em;}#sk-container-id-4 div.sk-estimator:hover {background-color: #d4ebff;}#sk-container-id-4 div.sk-parallel-item::after {content: \"\";width: 100%;border-bottom: 1px solid gray;flex-grow: 1;}#sk-container-id-4 div.sk-label:hover label.sk-toggleable__label {background-color: #d4ebff;}#sk-container-id-4 div.sk-serial::before {content: \"\";position: absolute;border-left: 1px solid gray;box-sizing: border-box;top: 0;bottom: 0;left: 50%;z-index: 0;}#sk-container-id-4 div.sk-serial {display: flex;flex-direction: column;align-items: center;background-color: white;padding-right: 0.2em;padding-left: 0.2em;position: relative;}#sk-container-id-4 div.sk-item {position: relative;z-index: 1;}#sk-container-id-4 div.sk-parallel {display: flex;align-items: stretch;justify-content: center;background-color: white;position: relative;}#sk-container-id-4 div.sk-item::before, #sk-container-id-4 div.sk-parallel-item::before {content: \"\";position: absolute;border-left: 1px solid gray;box-sizing: border-box;top: 0;bottom: 0;left: 50%;z-index: -1;}#sk-container-id-4 div.sk-parallel-item {display: flex;flex-direction: column;z-index: 1;position: relative;background-color: white;}#sk-container-id-4 div.sk-parallel-item:first-child::after {align-self: flex-end;width: 50%;}#sk-container-id-4 div.sk-parallel-item:last-child::after {align-self: flex-start;width: 50%;}#sk-container-id-4 div.sk-parallel-item:only-child::after {width: 0;}#sk-container-id-4 div.sk-dashed-wrapped {border: 1px dashed gray;margin: 0 0.4em 0.5em 0.4em;box-sizing: border-box;padding-bottom: 0.4em;background-color: white;}#sk-container-id-4 div.sk-label label {font-family: monospace;font-weight: bold;display: inline-block;line-height: 1.2em;}#sk-container-id-4 div.sk-label-container {text-align: center;}#sk-container-id-4 div.sk-container {/* jupyter's `normalize.less` sets `[hidden] { display: none; }` but bootstrap.min.css set `[hidden] { display: none !important; }` so we also need the `!important` here to be able to override the default hidden behavior on the sphinx rendered scikit-learn.org. See: https://github.com/scikit-learn/scikit-learn/issues/21755 */display: inline-block !important;position: relative;}#sk-container-id-4 div.sk-text-repr-fallback {display: none;}</style><div id=\"sk-container-id-4\" class=\"sk-top-container\"><div class=\"sk-text-repr-fallback\"><pre>LogisticRegression(random_state=3)</pre><b>In a Jupyter environment, please rerun this cell to show the HTML representation or trust the notebook. <br />On GitHub, the HTML representation is unable to render, please try loading this page with nbviewer.org.</b></div><div class=\"sk-container\" hidden><div class=\"sk-item\"><div class=\"sk-estimator sk-toggleable\"><input class=\"sk-toggleable__control sk-hidden--visually\" id=\"sk-estimator-id-4\" type=\"checkbox\" checked><label for=\"sk-estimator-id-4\" class=\"sk-toggleable__label sk-toggleable__label-arrow\">LogisticRegression</label><div class=\"sk-toggleable__content\"><pre>LogisticRegression(random_state=3)</pre></div></div></div></div></div>"
      ],
      "text/plain": [
       "LogisticRegression(random_state=3)"
      ]
     },
     "execution_count": 144,
     "metadata": {},
     "output_type": "execute_result"
    }
   ],
   "source": [
    "tfidf_model.fit(X_tfidf, Y_train)"
   ]
  },
  {
   "cell_type": "code",
   "execution_count": 145,
   "metadata": {},
   "outputs": [],
   "source": [
    "y_train_tfidf_predict = tfidf_model.predict(X_tfidf)\n",
    "y_test_tfidf_predict = tfidf_model.predict(tfidf.transform(X_test))"
   ]
  },
  {
   "cell_type": "code",
   "execution_count": 146,
   "metadata": {},
   "outputs": [
    {
     "data": {
      "text/plain": [
       "<sklearn.metrics._plot.confusion_matrix.ConfusionMatrixDisplay at 0x7efbf5506040>"
      ]
     },
     "execution_count": 146,
     "metadata": {},
     "output_type": "execute_result"
    },
    {
     "data": {
      "image/png": "[encoded data removed]",
      "text/plain": [
       "<Figure size 640x480 with 2 Axes>"
      ]
     },
     "metadata": {},
     "output_type": "display_data"
    }
   ],
   "source": [
    "metrics.ConfusionMatrixDisplay.from_predictions(Y_train, y_train_tfidf_predict)"
   ]
  },
  {
   "cell_type": "code",
   "execution_count": 147,
   "metadata": {},
   "outputs": [
    {
     "data": {
      "text/plain": [
       "<sklearn.metrics._plot.confusion_matrix.ConfusionMatrixDisplay at 0x7efbf47c2940>"
      ]
     },
     "execution_count": 147,
     "metadata": {},
     "output_type": "execute_result"
    },
    {
     "data": {
      "image/png": "[encoded data removed]",
      "text/plain": [
       "<Figure size 640x480 with 2 Axes>"
      ]
     },
     "metadata": {},
     "output_type": "display_data"
    }
   ],
   "source": [
    "metrics.ConfusionMatrixDisplay.from_predictions(Y_test, y_test_tfidf_predict)"
   ]
  },
  {
   "cell_type": "code",
   "execution_count": 148,
   "metadata": {},
   "outputs": [
    {
     "name": "stdout",
     "output_type": "stream",
     "text": [
      "Precision: 0.9535274356103024\n",
      "Recall: 0.9736992567181246\n",
      "F1: 0.9635077793493635\n"
     ]
    }
   ],
   "source": [
    "if len(bow_model.classes_) == 2:\n",
    "    print('Precision:', precision_score(Y_train, y_train_tfidf_predict, pos_label = 1))\n",
    "    print('Recall:', recall_score(Y_train, y_train_tfidf_predict, pos_label = 1))\n",
    "    print('F1:', f1_score(Y_train, y_train_tfidf_predict, pos_label = 1))\n",
    "else:\n",
    "    # Para casos no binarios, es común calcular las métricas para cada clase\n",
    "    print('Precision:', precision_score(Y_train, y_train_tfidf_predict, average = None))\n",
    "    print('Recall:', recall_score(Y_train, y_train_tfidf_predict, average = None))\n",
    "    print('F1:', f1_score(Y_train, y_train_tfidf_predict, average = None))"
   ]
  },
  {
   "cell_type": "code",
   "execution_count": 149,
   "metadata": {},
   "outputs": [
    {
     "name": "stdout",
     "output_type": "stream",
     "text": [
      "Precision: 0.80875\n",
      "Recall: 0.8626666666666667\n",
      "F1: 0.8348387096774194\n"
     ]
    }
   ],
   "source": [
    "if len(tfidf_model.classes_) == 2:\n",
    "    print('Precision:', precision_score(Y_test, y_test_tfidf_predict, pos_label = 1))\n",
    "    print('Recall:', recall_score(Y_test, y_test_tfidf_predict, pos_label = 1))\n",
    "    print('F1:', f1_score(Y_test, y_test_tfidf_predict, pos_label = 1))\n",
    "else:\n",
    "    # Para casos no binarios, es común calcular las métricas para cada clase\n",
    "    print('Precision:', precision_score(Y_test, y_test_tfidf_predict, average = None))\n",
    "    print('Recall:', recall_score(Y_test, y_test_tfidf_predict, average = None))\n",
    "    print('F1:', f1_score(Y_test, y_test_tfidf_predict, average = None))"
   ]
  },
  {
   "attachments": {},
   "cell_type": "markdown",
   "metadata": {},
   "source": [
    "#### 1.3.2.3 Análisis del error"
   ]
  },
  {
   "cell_type": "code",
   "execution_count": 150,
   "metadata": {},
   "outputs": [],
   "source": [
    "error_df = pd.concat([\n",
    "    pd.concat([X_test, Y_test], axis = 1).reset_index(),\n",
    "    pd.Series(y_test_tfidf_predict)\n",
    "], axis = 1).rename(columns = { 'sentimiento': 'actual', 0: 'predicted' })\n",
    "\n",
    "error_df.drop('index', inplace = True, axis = 1)"
   ]
  },
  {
   "cell_type": "code",
   "execution_count": 151,
   "metadata": {},
   "outputs": [
    {
     "data": {
      "text/plain": [
       "(256, 3)"
      ]
     },
     "execution_count": 151,
     "metadata": {},
     "output_type": "execute_result"
    }
   ],
   "source": [
    "error_df.loc[error_df['actual'] != error_df['predicted']].shape"
   ]
  },
  {
   "cell_type": "code",
   "execution_count": 152,
   "metadata": {},
   "outputs": [
    {
     "data": {
      "text/html": [
       "<div>\n",
       "<style scoped>\n",
       "    .dataframe tbody tr th:only-of-type {\n",
       "        vertical-align: middle;\n",
       "    }\n",
       "\n",
       "    .dataframe tbody tr th {\n",
       "        vertical-align: top;\n",
       "    }\n",
       "\n",
       "    .dataframe thead th {\n",
       "        text-align: right;\n",
       "    }\n",
       "</style>\n",
       "<table border=\"1\" class=\"dataframe\">\n",
       "  <thead>\n",
       "    <tr style=\"text-align: right;\">\n",
       "      <th></th>\n",
       "      <th>review_es</th>\n",
       "      <th>actual</th>\n",
       "      <th>predicted</th>\n",
       "    </tr>\n",
       "  </thead>\n",
       "  <tbody>\n",
       "    <tr>\n",
       "      <th>1347</th>\n",
       "      <td>esta película es una linda y linda película or...</td>\n",
       "      <td>1</td>\n",
       "      <td>0</td>\n",
       "    </tr>\n",
       "    <tr>\n",
       "      <th>749</th>\n",
       "      <td>i picked this title up from a friend who had i...</td>\n",
       "      <td>0</td>\n",
       "      <td>1</td>\n",
       "    </tr>\n",
       "    <tr>\n",
       "      <th>84</th>\n",
       "      <td>esperaba que esto fuera del calibre de das boo...</td>\n",
       "      <td>0</td>\n",
       "      <td>1</td>\n",
       "    </tr>\n",
       "    <tr>\n",
       "      <th>1353</th>\n",
       "      <td>parece que todos quieren saltar al carro y dec...</td>\n",
       "      <td>1</td>\n",
       "      <td>0</td>\n",
       "    </tr>\n",
       "    <tr>\n",
       "      <th>626</th>\n",
       "      <td>alguien recuerda la comedia alternativa muest...</td>\n",
       "      <td>0</td>\n",
       "      <td>1</td>\n",
       "    </tr>\n",
       "    <tr>\n",
       "      <th>965</th>\n",
       "      <td>lifeforce es una película extremadamente esqui...</td>\n",
       "      <td>1</td>\n",
       "      <td>0</td>\n",
       "    </tr>\n",
       "    <tr>\n",
       "      <th>924</th>\n",
       "      <td>desafortunadamente tengo que estar de acuerdo ...</td>\n",
       "      <td>0</td>\n",
       "      <td>1</td>\n",
       "    </tr>\n",
       "    <tr>\n",
       "      <th>1128</th>\n",
       "      <td>fui un gran fanático de snl en los días de che...</td>\n",
       "      <td>0</td>\n",
       "      <td>1</td>\n",
       "    </tr>\n",
       "    <tr>\n",
       "      <th>1462</th>\n",
       "      <td>hay tantas declaraciones incorrectas en este l...</td>\n",
       "      <td>0</td>\n",
       "      <td>1</td>\n",
       "    </tr>\n",
       "    <tr>\n",
       "      <th>182</th>\n",
       "      <td>si conocía a brad lineweaver en el estado de f...</td>\n",
       "      <td>0</td>\n",
       "      <td>1</td>\n",
       "    </tr>\n",
       "  </tbody>\n",
       "</table>\n",
       "</div>"
      ],
      "text/plain": [
       "                                              review_es  actual  predicted\n",
       "1347  esta película es una linda y linda película or...       1          0\n",
       "749   i picked this title up from a friend who had i...       0          1\n",
       "84    esperaba que esto fuera del calibre de das boo...       0          1\n",
       "1353  parece que todos quieren saltar al carro y dec...       1          0\n",
       "626    alguien recuerda la comedia alternativa muest...       0          1\n",
       "965   lifeforce es una película extremadamente esqui...       1          0\n",
       "924   desafortunadamente tengo que estar de acuerdo ...       0          1\n",
       "1128  fui un gran fanático de snl en los días de che...       0          1\n",
       "1462  hay tantas declaraciones incorrectas en este l...       0          1\n",
       "182   si conocía a brad lineweaver en el estado de f...       0          1"
      ]
     },
     "execution_count": 152,
     "metadata": {},
     "output_type": "execute_result"
    }
   ],
   "source": [
    "error_df.loc[error_df['actual'] != error_df['predicted']].sample(10)"
   ]
  },
  {
   "attachments": {},
   "cell_type": "markdown",
   "metadata": {},
   "source": [
    "#### Crear clase para pre procesamiento e incluirla en Pipeline"
   ]
  },
  {
   "cell_type": "code",
   "execution_count": 153,
   "metadata": {},
   "outputs": [],
   "source": [
    "\n",
    "pipeline = Pipeline([\n",
    "    # ('preprocessor', TextProcesser()),\n",
    "    ('vectorizer', TfidfVectorizer(tokenizer=word_tokenize, stop_words=stopwords_spanish)),\n",
    "    ('classifier', LogisticRegression(random_state=2))\n",
    "])"
   ]
  },
  {
   "cell_type": "code",
   "execution_count": 154,
   "metadata": {},
   "outputs": [],
   "source": [
    "param_grid = {\n",
    "    'vectorizer': [CountVectorizer(tokenizer = word_tokenize, stop_words = stopwords_spanish), TfidfVectorizer(tokenizer = word_tokenize, stop_words = stopwords_spanish)],\n",
    "    'classifier__penalty': ['l1', 'l2'],\n",
    "    'classifier__C': [0.1,1,10],\n",
    "}"
   ]
  },
  {
   "cell_type": "code",
   "execution_count": 155,
   "metadata": {},
   "outputs": [],
   "source": [
    "#search = GridSearchCV(pipeline, param_grid, scoring = ['precision', 'recall', 'f1'], refit = 'f1', cv = 10, return_train_score = True, verbose = 1, n_jobs = -1)"
   ]
  },
  {
   "cell_type": "code",
   "execution_count": 156,
   "metadata": {},
   "outputs": [],
   "source": [
    "#search.fit(X_train, Y_train)"
   ]
  },
  {
   "cell_type": "code",
   "execution_count": 157,
   "metadata": {},
   "outputs": [],
   "source": [
    "#search.best_params_"
   ]
  },
  {
   "cell_type": "code",
   "execution_count": 158,
   "metadata": {},
   "outputs": [],
   "source": [
    "#search.best_score_"
   ]
  },
  {
   "cell_type": "code",
   "execution_count": 159,
   "metadata": {},
   "outputs": [],
   "source": [
    "#y_test_search_predict = search.best_estimator_.predict(X_test)"
   ]
  },
  {
   "cell_type": "code",
   "execution_count": 160,
   "metadata": {},
   "outputs": [],
   "source": [
    "filename='./api/assets/logistic_regression.pkl'"
   ]
  },
  {
   "cell_type": "code",
   "execution_count": 161,
   "metadata": {},
   "outputs": [
    {
     "name": "stdout",
     "output_type": "stream",
     "text": [
      "Pipeline(steps=[('vectorizer',\n",
      "                 TfidfVectorizer(stop_words=['de', 'la', 'que', 'el', 'en', 'y',\n",
      "                                             'a', 'los', 'del', 'se', 'las',\n",
      "                                             'por', 'un', 'para', 'con', 'no',\n",
      "                                             'una', 'su', 'al', 'lo', 'como',\n",
      "                                             'más', 'pero', 'sus', 'le', 'ya',\n",
      "                                             'o', 'este', 'sí', 'porque', ...],\n",
      "                                 tokenizer=<function word_tokenize at 0x7efc0681f430>)),\n",
      "                ('classifier', LogisticRegression(random_state=2))])\n"
     ]
    }
   ],
   "source": [
    "print(pipeline)"
   ]
  },
  {
   "cell_type": "code",
   "execution_count": 162,
   "metadata": {},
   "outputs": [],
   "source": [
    "pipeline.fit(X_train, Y_train)\n",
    "with open(filename, 'wb') as f:\n",
    "    pickle.dump(pipeline, f)"
   ]
  },
  {
   "cell_type": "code",
   "execution_count": 163,
   "metadata": {},
   "outputs": [],
   "source": [
    "with open(filename, 'rb') as f:\n",
    "    pipeline_loaded = pickle.load(f)"
   ]
  },
  {
   "cell_type": "code",
   "execution_count": 164,
   "metadata": {},
   "outputs": [
    {
     "data": {
      "text/plain": [
       "array([1, 0, 0, ..., 1, 1, 1])"
      ]
     },
     "execution_count": 164,
     "metadata": {},
     "output_type": "execute_result"
    }
   ],
   "source": [
    "pipeline_loaded.predict(X_test)"
   ]
  },
  {
   "cell_type": "code",
   "execution_count": 165,
   "metadata": {},
   "outputs": [],
   "source": [
    "#metrics.ConfusionMatrixDisplay.from_predictions(Y_test, y_test_search_predict)"
   ]
  },
  {
   "cell_type": "code",
   "execution_count": 166,
   "metadata": {},
   "outputs": [],
   "source": [
    "#accuracy = accuracy_score(Y_test, y_test_search_predict)\n",
    "#print('Accuracy:', accuracy)\n",
    "#print('Precision:', precision_score(Y_test, y_test_search_predict))\n",
    "#print('Recall:', recall_score(Y_test, y_test_search_predict))\n",
    "#print('F1:', f1_score(Y_test, y_test_search_predict))"
   ]
  },
  {
   "attachments": {},
   "cell_type": "markdown",
   "metadata": {},
   "source": [
    "### 1.3.3 Arboles de decisión"
   ]
  },
  {
   "cell_type": "code",
   "execution_count": 167,
   "metadata": {},
   "outputs": [],
   "source": [
    "# # Crear la matriz de características TF-IDF\n",
    "# tfidf_vectorizer = TfidfVectorizer()\n",
    "# X_tfidf = tfidf_vectorizer.fit_transform(df_movies['review_es'])\n",
    "\n",
    "# #Dividir los datos en entrenamiento y prueba\n",
    "# X_train, X_test, y_train, y_test = train_test_split(X_tfidf, df_movies['sentimiento'], test_size=0.3, random_state=42)\n",
    "\n",
    "# # Entrenar un árbol de decisión\n",
    "# arbol = DecisionTreeClassifier(criterion='entropy', random_state=0)\n",
    "# arbol.fit(X_train, y_train)\n",
    "\n",
    "# # Hacer predicciones sobre el conjunto de prueba\n",
    "# y_pred = arbol.predict(X_test)\n",
    "\n",
    "# accuracy = accuracy_score(y_test, y_pred)\n",
    "# print(f'Exactitud del modelo: {accuracy}')\n",
    "# print(\"Recall: {}\".format(recall_score(y_test,y_pred)))\n",
    "# print(\"Precisión: {}\".format(precision_score(y_test,y_pred)))\n",
    "# print(\"Puntuación F1: {}\".format(f1_score(y_test,y_pred)))\n",
    "\n"
   ]
  },
  {
   "cell_type": "code",
   "execution_count": 168,
   "metadata": {},
   "outputs": [],
   "source": [
    "# metrics.ConfusionMatrixDisplay.from_predictions(y_test, y_pred)"
   ]
  },
  {
   "attachments": {},
   "cell_type": "markdown",
   "metadata": {},
   "source": [
    "#### 1.3.3.2 Busqueda de hiperparametros"
   ]
  },
  {
   "cell_type": "code",
   "execution_count": 169,
   "metadata": {},
   "outputs": [],
   "source": [
    "# X_tfidf = tfidf_vectorizer.fit_transform(df_movies['review_es'])\n",
    "# X_train, X_test, y_train, y_test = train_test_split(X_tfidf, df_movies['sentimiento'], test_size=0.2, random_state=42)\n",
    "# arbol = DecisionTreeClassifier(criterion='entropy', max_depth=4,random_state=0)\n",
    "# arbol.fit(X_train, y_train)\n",
    "# y_pred = arbol.predict(X_test)\n",
    "# accuracy = accuracy_score(y_test, y_pred)\n",
    "# print(f'Exactitud del modelo: {accuracy}')\n",
    "# print(\"Recall: {}\".format(recall_score(y_test,y_pred)))\n",
    "# print(\"Precisión: {}\".format(precision_score(y_test,y_pred)))\n",
    "# print(\"Puntuación F1: {}\".format(f1_score(y_test,y_pred)))\n"
   ]
  },
  {
   "cell_type": "code",
   "execution_count": 170,
   "metadata": {},
   "outputs": [],
   "source": [
    "# X_tfidf = tfidf_vectorizer.fit_transform(df_movies['review_es'])\n",
    "# X_train, X_test, y_train, y_test = train_test_split(X_tfidf, df_movies['sentimiento'], test_size=0.2, random_state=42)\n",
    "# arbol = DecisionTreeClassifier(criterion='entropy', max_depth=6,random_state=0)\n",
    "# arbol.fit(X_train, y_train)\n",
    "# y_pred = arbol.predict(X_test)\n",
    "# accuracy = accuracy_score(y_test, y_pred)\n",
    "# print(f'Exactitud del modelo: {accuracy}')\n",
    "# print(\"Recall: {}\".format(recall_score(y_test,y_pred)))\n",
    "# print(\"Precisión: {}\".format(precision_score(y_test,y_pred)))\n",
    "# print(\"Puntuación F1: {}\".format(f1_score(y_test,y_pred)))"
   ]
  },
  {
   "cell_type": "code",
   "execution_count": 171,
   "metadata": {},
   "outputs": [],
   "source": [
    "# X_tfidf = tfidf_vectorizer.fit_transform(df_movies['review_es'])\n",
    "# X_train, X_test, y_train, y_test = train_test_split(X_tfidf, df_movies['sentimiento'], test_size=0.2, random_state=42)\n",
    "# arbol = DecisionTreeClassifier(criterion='entropy', max_depth=8,random_state=0)\n",
    "# arbol.fit(X_train, y_train)\n",
    "# y_pred = arbol.predict(X_test)\n",
    "# accuracy = accuracy_score(y_test, y_pred)\n",
    "# print(f'Exactitud del modelo: {accuracy}')\n",
    "# print(\"Recall: {}\".format(recall_score(y_test,y_pred)))\n",
    "# print(\"Precisión: {}\".format(precision_score(y_test,y_pred)))\n",
    "# print(\"Puntuación F1: {}\".format(f1_score(y_test,y_pred)))"
   ]
  },
  {
   "cell_type": "code",
   "execution_count": 172,
   "metadata": {},
   "outputs": [],
   "source": [
    "# X_tfidf = tfidf_vectorizer.fit_transform(df_movies['review_es'])\n",
    "# X_train, X_test, y_train, y_test = train_test_split(X_tfidf, df_movies['sentimiento'], test_size=0.2, random_state=42)\n",
    "# arbol = DecisionTreeClassifier(criterion='entropy', max_depth=10,random_state=0)\n",
    "# arbol.fit(X_train, y_train)\n",
    "# y_pred = arbol.predict(X_test)\n",
    "# accuracy = accuracy_score(y_test, y_pred)\n",
    "# print(f'Exactitud del modelo: {accuracy}')\n",
    "# print(\"Recall: {}\".format(recall_score(y_test,y_pred)))\n",
    "# print(\"Precisión: {}\".format(precision_score(y_test,y_pred)))\n",
    "# print(\"Puntuación F1: {}\".format(f1_score(y_test,y_pred)))"
   ]
  },
  {
   "cell_type": "code",
   "execution_count": 173,
   "metadata": {},
   "outputs": [],
   "source": [
    "# ## Obtencion del mejor modelo\n",
    "# particiones = KFold(n_splits=10, shuffle=True, random_state = 0)\n",
    "# param_grid = {'criterion':['gini', 'entropy'],'max_depth':[4,6,8,10,20],'min_samples_split':[2, 3, 4, 5]}\n",
    "# arbol = DecisionTreeClassifier(random_state=0)\n",
    "# mejor_modelo = GridSearchCV(arbol, param_grid, cv=particiones)\n",
    "# mejor_modelo.fit(X_train, y_train)"
   ]
  },
  {
   "cell_type": "code",
   "execution_count": 174,
   "metadata": {},
   "outputs": [],
   "source": [
    "# mejor_modelo.best_params_"
   ]
  },
  {
   "cell_type": "code",
   "execution_count": 175,
   "metadata": {},
   "outputs": [],
   "source": [
    "# arbol_final = mejor_modelo.best_estimator_\n",
    "# # Probemos ahora este modelo sobre test.\n",
    "# y_pred_train = arbol_final.predict(X_train)\n",
    "# y_pred_test = arbol_final.predict(X_test)\n",
    "# print('Exactitud sobre entrenamiento: %.2f' % accuracy_score(y_train, y_pred_train))\n",
    "# print('Exactitud sobre test: %.2f' % accuracy_score(y_test, y_pred_test))"
   ]
  },
  {
   "cell_type": "markdown",
   "metadata": {},
   "source": [
    "### 1.3.2.4 Selección del modelo\n"
   ]
  },
  {
   "cell_type": "markdown",
   "metadata": {},
   "source": [
    "## 1.4 Resultados\n"
   ]
  },
  {
   "cell_type": "markdown",
   "metadata": {},
   "source": [
    "## 1.5 Trabajo en equipo"
   ]
  }
 ],
 "metadata": {
  "kernelspec": {
   "display_name": "Python 3.9.12 ('base')",
   "language": "python",
   "name": "python3"
  },
  "language_info": {
   "codemirror_mode": {
    "name": "ipython",
    "version": 3
   },
   "file_extension": ".py",
   "mimetype": "text/x-python",
   "name": "python",
   "nbconvert_exporter": "python",
   "pygments_lexer": "ipython3",
   "version": "3.9.15"
  },
  "orig_nbformat": 4,
  "vscode": {
   "interpreter": {
    "hash": "ad2bdc8ecc057115af97d19610ffacc2b4e99fae6737bb82f5d7fb13d2f2c186"
   }
  }
 },
 "nbformat": 4,
 "nbformat_minor": 2
}
